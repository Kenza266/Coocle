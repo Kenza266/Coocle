{
 "cells": [
  {
   "cell_type": "code",
   "execution_count": 20,
   "metadata": {},
   "outputs": [],
   "source": [
    "import csv\n",
    "import json\n",
    "import math\n",
    "import re\n",
    "\n",
    "import nltk\n",
    "import numpy as np\n",
    "import pandas as pd\n",
    "from Index import Index\n",
    "from matplotlib import pyplot as plt\n",
    "from nltk.stem import PorterStemmer, WordNetLemmatizer\n",
    "from rank_bm25 import BM25Okapi"
   ]
  },
  {
   "attachments": {},
   "cell_type": "markdown",
   "metadata": {},
   "source": [
    "# Predictions"
   ]
  },
  {
   "cell_type": "code",
   "execution_count": 2,
   "metadata": {},
   "outputs": [],
   "source": [
    "index = Index(('index.json', 'inverted.json', 'queries.json', 'ground_truth.csv'), preprocessed=True)"
   ]
  },
  {
   "attachments": {},
   "cell_type": "markdown",
   "metadata": {},
   "source": [
    "## Vector"
   ]
  },
  {
   "cell_type": "code",
   "execution_count": 3,
   "metadata": {},
   "outputs": [
    {
     "name": "stderr",
     "output_type": "stream",
     "text": [
      "100%|██████████| 76/76 [01:37<00:00,  1.28s/it]\n"
     ]
    },
    {
     "data": {
      "text/plain": [
       "(0.028037130497476574, 0.9994801089185152)"
      ]
     },
     "execution_count": 3,
     "metadata": {},
     "output_type": "execute_result"
    }
   ],
   "source": [
    "predicted_scalar = index.vector_search(max_docs=1460, metric='scalar') \n",
    "index.PR([[i[0] for i in j] for j in list(predicted_scalar.values())], index.relevent_docs)[2:] "
   ]
  },
  {
   "cell_type": "code",
   "execution_count": 4,
   "metadata": {},
   "outputs": [],
   "source": [
    "with open('pred_scalar.json', 'w', encoding='utf-8') as f: \n",
    "    json.dump({str(k): v for k, v in predicted_scalar.items()}, f, ensure_ascii=False, indent=4) "
   ]
  },
  {
   "cell_type": "code",
   "execution_count": 5,
   "metadata": {},
   "outputs": [
    {
     "name": "stderr",
     "output_type": "stream",
     "text": [
      "100%|██████████| 76/76 [01:33<00:00,  1.22s/it]\n"
     ]
    },
    {
     "data": {
      "text/plain": [
       "(0.028037130497476574, 0.9994801089185152)"
      ]
     },
     "execution_count": 5,
     "metadata": {},
     "output_type": "execute_result"
    }
   ],
   "source": [
    "predicted_cos = index.vector_search(max_docs=1460, metric='cosine')\n",
    "index.PR([[i[0] for i in j] for j in list(predicted_cos.values())], index.relevent_docs)[2:] "
   ]
  },
  {
   "cell_type": "code",
   "execution_count": 6,
   "metadata": {},
   "outputs": [],
   "source": [
    "with open('pred_cos.json', 'w', encoding='utf-8') as f: \n",
    "    json.dump({str(k): v for k, v in predicted_cos.items()}, f, ensure_ascii=False, indent=4) "
   ]
  },
  {
   "cell_type": "code",
   "execution_count": 7,
   "metadata": {},
   "outputs": [
    {
     "name": "stderr",
     "output_type": "stream",
     "text": [
      "100%|██████████| 76/76 [02:35<00:00,  2.05s/it]\n"
     ]
    },
    {
     "data": {
      "text/plain": [
       "(0.028037130497476574, 0.9994801089185152)"
      ]
     },
     "execution_count": 7,
     "metadata": {},
     "output_type": "execute_result"
    }
   ],
   "source": [
    "predicted_jacc = index.vector_search(max_docs=1460, metric='jaccard') \n",
    "index.PR([[i[0] for i in j] for j in list(predicted_jacc.values())], index.relevent_docs)[2:] "
   ]
  },
  {
   "cell_type": "code",
   "execution_count": 8,
   "metadata": {},
   "outputs": [],
   "source": [
    "with open('pred_jacc.json', 'w', encoding='utf-8') as f:\n",
    "    json.dump({str(k): v for k, v in predicted_jacc.items()}, f, ensure_ascii=False, indent=4) "
   ]
  },
  {
   "attachments": {},
   "cell_type": "markdown",
   "metadata": {},
   "source": [
    "## BM25"
   ]
  },
  {
   "cell_type": "code",
   "execution_count": 9,
   "metadata": {},
   "outputs": [],
   "source": [
    "index = Index(('index.json', 'inverted.json', 'queries.json', 'ground_truth.csv'), preprocessed=True)"
   ]
  },
  {
   "cell_type": "code",
   "execution_count": 10,
   "metadata": {},
   "outputs": [
    {
     "name": "stderr",
     "output_type": "stream",
     "text": [
      "100%|██████████| 76/76 [00:16<00:00,  4.57it/s]\n"
     ]
    },
    {
     "data": {
      "text/plain": [
       "(0.052105263157894745, 0.03607191392734016)"
      ]
     },
     "execution_count": 10,
     "metadata": {},
     "output_type": "execute_result"
    }
   ],
   "source": [
    "p = index.BM25() \n",
    "index.PR([[i[0] for i in j[:25]] for j in p], index.relevent_docs)[2:] "
   ]
  },
  {
   "cell_type": "code",
   "execution_count": 11,
   "metadata": {},
   "outputs": [
    {
     "name": "stderr",
     "output_type": "stream",
     "text": [
      "100%|██████████| 76/76 [00:00<00:00, 87.78it/s] \n"
     ]
    },
    {
     "data": {
      "text/plain": [
       "(0.04078947368421053, 0.05698719375339137)"
      ]
     },
     "execution_count": 11,
     "metadata": {},
     "output_type": "execute_result"
    }
   ],
   "source": [
    "# Kaggle's\n",
    "p = index.BM25_kapi()\n",
    "index.PR([[i[0] for i in j[:50]] for j in p], index.relevent_docs)[2:] "
   ]
  },
  {
   "cell_type": "code",
   "execution_count": 12,
   "metadata": {},
   "outputs": [],
   "source": [
    "p = [[[str(i), l] for i, l in j] for j in p]\n",
    "p = {str(i): j for i, j in enumerate(p)}"
   ]
  },
  {
   "cell_type": "code",
   "execution_count": 13,
   "metadata": {},
   "outputs": [],
   "source": [
    "with open('pred_bm25.json', 'w', encoding='utf-8') as f:\n",
    "    json.dump(p, f, ensure_ascii=False, indent=4)"
   ]
  },
  {
   "attachments": {},
   "cell_type": "markdown",
   "metadata": {},
   "source": [
    "## ROC"
   ]
  },
  {
   "cell_type": "code",
   "execution_count": 14,
   "metadata": {},
   "outputs": [],
   "source": [
    "with open('pred_jacc.json') as f:\n",
    "    pred_jacc = json.load(f)\n",
    "with open('pred_cos.json') as f:\n",
    "    pred_cos = json.load(f)\n",
    "with open('pred_bm25.json') as f:\n",
    "    pred_bm25 = json.load(f)\n",
    "with open('pred_scalar.json') as f:\n",
    "    pred_scalar = json.load(f) \n",
    "preds = [pred_scalar, pred_cos, pred_jacc, pred_bm25]"
   ]
  },
  {
   "cell_type": "code",
   "execution_count": 15,
   "metadata": {},
   "outputs": [],
   "source": [
    "def precision(i, pred, relevent):\n",
    "    pred = [[i[0] for i in j[:i]] for j in list(pred.values())]\n",
    "    return index.PR(pred, index.relevent_docs)[2]"
   ]
  },
  {
   "cell_type": "code",
   "execution_count": 16,
   "metadata": {},
   "outputs": [
    {
     "name": "stdout",
     "output_type": "stream",
     "text": [
      "0.05000000000000001\n",
      "0.06315789473684211\n",
      "0.05526315789473685\n",
      "0.02631578947368421\n"
     ]
    }
   ],
   "source": [
    "for pred in preds:\n",
    "    print(precision(5, pred, index.relevent_docs)) "
   ]
  },
  {
   "cell_type": "code",
   "execution_count": 17,
   "metadata": {},
   "outputs": [
    {
     "name": "stdout",
     "output_type": "stream",
     "text": [
      "0.05394736842105264\n",
      "0.06052631578947368\n",
      "0.05921052631578947\n",
      "0.025\n"
     ]
    }
   ],
   "source": [
    "for pred in preds:\n",
    "    print(precision(10, pred, index.relevent_docs))"
   ]
  },
  {
   "cell_type": "code",
   "execution_count": 25,
   "metadata": {},
   "outputs": [],
   "source": [
    "def frange(x, y, jump):\n",
    "    while x < y:\n",
    "        yield x\n",
    "        x += jump\n",
    "\n",
    "def ROC(pred, relevent, step=11):\n",
    "    PR = []\n",
    "    for thresh in range(1, step):\n",
    "        PR.append(index.PR([[i[0] for i in j[:thresh]] for j in list(pred.values())], relevent)[2:])\n",
    "    PR = np.array(PR)\n",
    "    roc = []\n",
    "    recalls = list(frange(0, 1, 1/len(PR)))\n",
    "    for r, pr in zip(recalls, PR):\n",
    "        filtered = [i[0] for i in PR if i[1] >= r]\n",
    "        p = max(filtered) if filtered else 0\n",
    "        roc.append((p, r))\n",
    "    return roc"
   ]
  },
  {
   "cell_type": "code",
   "execution_count": 33,
   "metadata": {},
   "outputs": [
    {
     "data": {
      "image/png": "[encoded data removed]",
      "text/plain": [
       "<Figure size 640x480 with 1 Axes>"
      ]
     },
     "metadata": {},
     "output_type": "display_data"
    }
   ],
   "source": [
    "rocs = [] \n",
    "for pred in preds:\n",
    "    rocs.append(np.array(ROC(pred, index.relevent_docs, 5))) \n",
    "\n",
    "for roc in rocs:\n",
    "    plt.plot(roc[:, 1], roc[:, 0])\n",
    "plt.show() "
   ]
  },
  {
   "cell_type": "code",
   "execution_count": null,
   "metadata": {},
   "outputs": [],
   "source": []
  }
 ],
 "metadata": {
  "kernelspec": {
   "display_name": "Python 3",
   "language": "python",
   "name": "python3"
  },
  "language_info": {
   "codemirror_mode": {
    "name": "ipython",
    "version": 3
   },
   "file_extension": ".py",
   "mimetype": "text/x-python",
   "name": "python",
   "nbconvert_exporter": "python",
   "pygments_lexer": "ipython3",
   "version": "3.11.1"
  },
  "orig_nbformat": 4,
  "vscode": {
   "interpreter": {
    "hash": "b91f41160b83ffc59c7e17fa6fd02d637d5dcf1d5e59aa2db87d82178661b954"
   }
  }
 },
 "nbformat": 4,
 "nbformat_minor": 2
}
